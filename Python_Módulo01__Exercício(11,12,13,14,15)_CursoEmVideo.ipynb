{
  "nbformat": 4,
  "nbformat_minor": 0,
  "metadata": {
    "colab": {
      "provenance": [],
      "authorship_tag": "ABX9TyP/El9zpZuirAYJz+dtIktH",
      "include_colab_link": true
    },
    "kernelspec": {
      "name": "python3",
      "display_name": "Python 3"
    },
    "language_info": {
      "name": "python"
    }
  },
  "cells": [
    {
      "cell_type": "markdown",
      "metadata": {
        "id": "view-in-github",
        "colab_type": "text"
      },
      "source": [
        "<a href=\"https://colab.research.google.com/github/robertocarlos1007/Python-M-dulo01-CursoEmVideo/blob/main/Python_M%C3%B3dulo01__Exerc%C3%ADcio(11%2C12%2C13%2C14%2C15)_CursoEmVideo.ipynb\" target=\"_parent\"><img src=\"https://colab.research.google.com/assets/colab-badge.svg\" alt=\"Open In Colab\"/></a>"
      ]
    },
    {
      "cell_type": "code",
      "execution_count": 5,
      "metadata": {
        "id": "PuegqdAw3G7H",
        "colab": {
          "base_uri": "https://localhost:8080/"
        },
        "outputId": "61760a69-98db-4e11-e685-780b791b93ac"
      },
      "outputs": [
        {
          "output_type": "stream",
          "name": "stdout",
          "text": [
            "Digite o valor da largura: 10\n",
            "Digite o valor da altura: 2.5\n",
            "Para pintar essa parede você precisará de 12.5L de tinta.\n"
          ]
        }
      ],
      "source": [
        "# Exercício Python 11: Faça um programa que leia a largura e a altura de uma parede em metros, calcule a sua área e a quantidade de tinta\n",
        "# necessária para pintá-la, sabendo que cada litro de tinta pinta uma área de 2 metros quadrados.\n",
        "\n",
        "largura = float(input(\"Digite o valor da largura: \"))\n",
        "altura = float(input(\"Digite o valor da altura: \"))\n",
        "area = largura * altura\n",
        "litro = area / 2\n",
        "print(f\"Para pintar essa parede você precisará de {litro}L de tinta.\")"
      ]
    },
    {
      "cell_type": "code",
      "source": [
        "#Exercício Python 12:Faça um algoritmo que leia o preço de um produto e mostre seu novo preço, com 5% de desconto.\n",
        "\n",
        "preço = float(input(\"Qual é o preço do produto? R$ \"))\n",
        "desconto = int(input(\"Qual o valor do desconto? \"))\n",
        "formula = preço - (preço *desconto / 100)\n",
        "print(f\"O preço inicial era R${preço} com o desconto aplicado é R${formula}\")"
      ],
      "metadata": {
        "colab": {
          "base_uri": "https://localhost:8080/"
        },
        "id": "ipem8Yno7vOS",
        "outputId": "98181560-e425-44d1-eb4f-04353fa9772d"
      },
      "execution_count": 7,
      "outputs": [
        {
          "output_type": "stream",
          "name": "stdout",
          "text": [
            "Qual é o preço do produto? R$ 150\n",
            "Qual o valor do desconto? 15\n",
            "O preço inicial era R$150.0 com o desconto aplicado é R$127.5\n"
          ]
        }
      ]
    },
    {
      "cell_type": "code",
      "source": [
        "# Exercício Python 13: Faça um algoritmo que leia o salário de um funcionário e mostre seu novo salário, com 15% de aumento.\n",
        "\n",
        "salario = float(input(\"Digite o valor do seu salário: R$ \"))\n",
        "porcentagem = float(input(\"Digite o valor do aumento em porcentagem: \"))\n",
        "aumento = salario + (salario*porcentagem/100)\n",
        "print(f\"O salário inicial era de R${salario} e agora com o aumento de {porcentagem}% é R${aumento}.\")"
      ],
      "metadata": {
        "colab": {
          "base_uri": "https://localhost:8080/"
        },
        "id": "_t1nABuyNCrY",
        "outputId": "26d0fdfb-2c96-466d-bd10-3b23719dae84"
      },
      "execution_count": 15,
      "outputs": [
        {
          "output_type": "stream",
          "name": "stdout",
          "text": [
            "Digite o valor do seu salário: R$ 1200\n",
            "Digite o valor do aumento em porcentagem: 15\n",
            "O salário inicial era de R$1200.0 e agora com o aumento de 15.0% é R$1380.0.\n"
          ]
        }
      ]
    },
    {
      "cell_type": "code",
      "source": [
        "#Exercício Python 14: Escreva um programa que converta uma temperatura digitando em graus Celsius e converta para graus Fahrenheit.\n",
        "C = float(input(\"Digite o valor em Celsius: \"))\n",
        "F = C * 1.8 + 32\n",
        "print(f\"A conversão de {C}°C Celsius em Fahrenheit é {F}°F.\")"
      ],
      "metadata": {
        "colab": {
          "base_uri": "https://localhost:8080/"
        },
        "id": "K8iQmzKt2OX8",
        "outputId": "66bbd056-4a8d-48f6-f903-f57d1d27b7ea"
      },
      "execution_count": 16,
      "outputs": [
        {
          "output_type": "stream",
          "name": "stdout",
          "text": [
            "Digite o valor em Celsius: 30\n",
            "A conversão de 30.0°C Celsius em Fahrenheit é 86.0°F.\n"
          ]
        }
      ]
    },
    {
      "cell_type": "code",
      "source": [
        "# Exercício Python 15: Escreva um programa que pergunte a quantidade de Km percorridos por um carro alugado\n",
        "# e a quantidade de dias pelos quais ele foi alugado.Calcule o preço a pagar, sabendo que o carro custa R$60 por dia e R$0,15 por Km rodado.\n",
        "\n",
        "km = float(input(\"Digite a quantidade de km percorridos: \"))\n",
        "dias = int(input(\"Insira o número de dias que você teve o carro alugado: \"))\n",
        "preço = (60 * dias) + (0.15 * km)\n",
        "print(f\"O valor a ser pago pelo aluguel equivale a R${preço}\")"
      ],
      "metadata": {
        "colab": {
          "base_uri": "https://localhost:8080/"
        },
        "id": "crKMQm50ZVYC",
        "outputId": "d862b20b-4e8a-404e-e959-bd2b2ff266d8"
      },
      "execution_count": 18,
      "outputs": [
        {
          "output_type": "stream",
          "name": "stdout",
          "text": [
            "Digite a quantidade de km percorridos: 2415\n",
            "Insira o número de dias que você teve o carro alugado: 2\n",
            "O valor a ser pago pelo aluguel equivale a R$482.25\n"
          ]
        }
      ]
    }
  ]
}