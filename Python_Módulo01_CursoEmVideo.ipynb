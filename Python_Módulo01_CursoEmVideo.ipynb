{
  "nbformat": 4,
  "nbformat_minor": 0,
  "metadata": {
    "colab": {
      "provenance": [],
      "authorship_tag": "ABX9TyN3MVnxyZ20IKt3hoUf73xU",
      "include_colab_link": true
    },
    "kernelspec": {
      "name": "python3",
      "display_name": "Python 3"
    },
    "language_info": {
      "name": "python"
    }
  },
  "cells": [
    {
      "cell_type": "markdown",
      "metadata": {
        "id": "view-in-github",
        "colab_type": "text"
      },
      "source": [
        "<a href=\"https://colab.research.google.com/github/robertocarlos1007/Python-M-dulo01-CursoEmVideo/blob/main/Python_M%C3%B3dulo01_CursoEmVideo.ipynb\" target=\"_parent\"><img src=\"https://colab.research.google.com/assets/colab-badge.svg\" alt=\"Open In Colab\"/></a>"
      ]
    },
    {
      "cell_type": "code",
      "execution_count": 20,
      "metadata": {
        "colab": {
          "base_uri": "https://localhost:8080/"
        },
        "id": "mCnoIOa7Wmdu",
        "outputId": "66596c3a-beb8-481f-ae2a-1abfa6f2e71b"
      },
      "outputs": [
        {
          "output_type": "stream",
          "name": "stdout",
          "text": [
            "===DESAFIO 01===\n",
            "Qual é o seu nome?roberto\n",
            "Olá, roberto Prazer em te conhecer!\n"
          ]
        }
      ],
      "source": [
        "# crie um script python que leia o nome de uma pessoa e mostre uma mensagemde boas-vindas de acordo com o valor digitado.\n",
        "\n",
        "print(\"===DESAFIO 01===\")\n",
        "nome = input(\"Qual é o seu nome?\")\n",
        "print(\"Olá,\", nome, \"Prazer em te conhecer!\")"
      ]
    },
    {
      "cell_type": "code",
      "source": [
        "# crie um script python que leia o dia, o mês e o ano de nascimento de uma pessoa e mostre uma mensagem com a data formatada.\n",
        "\n",
        "print(\"===DESAFIO 02===\")\n",
        "dia = input (\"Qual é o dia em que você nasceu?\")\n",
        "mes = input (\"Em que mês você nasceu?\")\n",
        "ano_nascimento = input (\"Em que ano você nasceu?\")\n",
        "print(\"Você nasceu no dia\", dia, \"de\" ,mes, \"de\", ano_nascimento, \". Correto?\")\n",
        "\n",
        "# forma 2\n",
        "\n",
        "print(\"===DESAFIO 02===\")\n",
        "dia = input (\"Qual é o dia em que você nasceu?\")\n",
        "mes = input (\"Em que mês você nasceu?\")\n",
        "ano_nascimento = input (\"Em que ano você nasceu?\")\n",
        "print(f\"Você nasceu no dia {dia} de {mes} de {ano_nascimento}. Correto?\")\n"
      ],
      "metadata": {
        "colab": {
          "base_uri": "https://localhost:8080/"
        },
        "id": "k-rR1vh0YQQI",
        "outputId": "316832ed-36db-42cf-be8c-37e8c46d77ae"
      },
      "execution_count": 21,
      "outputs": [
        {
          "output_type": "stream",
          "name": "stdout",
          "text": [
            "===DESAFIO 02===\n",
            "Qual é o dia em que você nasceu?8\n",
            "Em que mês você nasceu?agosto\n",
            "Em que ano você nasceu?2004\n",
            "Você nasceu no dia 8 de agosto de 2004 . Correto?\n",
            "===DESAFIO 02===\n",
            "Qual é o dia em que você nasceu?8\n",
            "Em que mês você nasceu?agosto\n",
            "Em que ano você nasceu?2004\n",
            "Você nasceu no dia 8 de agosto de 2004. Correto?\n"
          ]
        }
      ]
    },
    {
      "cell_type": "code",
      "source": [
        "# crie um script python que leia dois números e tente a mostrar a soma entre eles.\n",
        "\n",
        "print(\"===DESAFIO 03===\")\n",
        "n1 = int(input(\"Digite um número: \"))\n",
        "n2 = int(input(\"Digite outro número: \"))\n",
        "soma = n1 + n2\n",
        "print(\"O valor da soma é:\", soma)\n",
        "\n"
      ],
      "metadata": {
        "colab": {
          "base_uri": "https://localhost:8080/"
        },
        "id": "mX0JV6uJZhJX",
        "outputId": "0ee6687f-0baf-469f-da46-7061fcac58a6"
      },
      "execution_count": 22,
      "outputs": [
        {
          "output_type": "stream",
          "name": "stdout",
          "text": [
            "===DESAFIO 03===\n",
            "Digite um número: 2\n",
            "Digite outro número: 6\n",
            "O valor da soma é: 8\n"
          ]
        }
      ]
    }
  ]
}