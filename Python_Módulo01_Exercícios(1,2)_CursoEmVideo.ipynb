{
  "nbformat": 4,
  "nbformat_minor": 0,
  "metadata": {
    "colab": {
      "provenance": [],
      "authorship_tag": "ABX9TyNhYrcjQVsJIqFDG1tyRQ5E",
      "include_colab_link": true
    },
    "kernelspec": {
      "name": "python3",
      "display_name": "Python 3"
    },
    "language_info": {
      "name": "python"
    }
  },
  "cells": [
    {
      "cell_type": "markdown",
      "metadata": {
        "id": "view-in-github",
        "colab_type": "text"
      },
      "source": [
        "<a href=\"https://colab.research.google.com/github/robertocarlos1007/Python-M-dulo01-CursoEmVideo/blob/main/Python_M%C3%B3dulo01_Exerc%C3%ADcios(1%2C2)_CursoEmVideo.ipynb\" target=\"_parent\"><img src=\"https://colab.research.google.com/assets/colab-badge.svg\" alt=\"Open In Colab\"/></a>"
      ]
    },
    {
      "cell_type": "code",
      "execution_count": 7,
      "metadata": {
        "colab": {
          "base_uri": "https://localhost:8080/"
        },
        "id": "QqiL9eOY-eed",
        "outputId": "c265bb78-6b2b-45e1-d541-b38aedecae10"
      },
      "outputs": [
        {
          "output_type": "stream",
          "name": "stdout",
          "text": [
            "Olá, mundo!\n"
          ]
        }
      ],
      "source": [
        "# crie um programa que escreva \"Olá, mundo\" na tela.\n",
        "# ===EXERCÍCIO 01===\n",
        "print(\"Olá, mundo!\")"
      ]
    },
    {
      "cell_type": "code",
      "source": [
        "# Faça um programa que leia o nome de uma pessoa e mostre uma mensagem de boas-vindas.\n",
        "# ===EXERCÍCIO 02===\n",
        "nome = input(\"Digite seu nome: \")\n",
        "print(f\"Olá, {nome}. Bem-vindo.\")\n"
      ],
      "metadata": {
        "colab": {
          "base_uri": "https://localhost:8080/"
        },
        "id": "YA1lT5xQAFrP",
        "outputId": "6581d926-2a79-441e-eaeb-1e35d31088e8"
      },
      "execution_count": 8,
      "outputs": [
        {
          "output_type": "stream",
          "name": "stdout",
          "text": [
            "Digite seu nome: Roberto\n",
            "Olá, Roberto. Bem-vindo.\n"
          ]
        }
      ]
    }
  ]
}