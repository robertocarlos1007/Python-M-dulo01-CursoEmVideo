{
  "nbformat": 4,
  "nbformat_minor": 0,
  "metadata": {
    "colab": {
      "provenance": [],
      "authorship_tag": "ABX9TyO9gky5TPMsnukomzbcY2c0",
      "include_colab_link": true
    },
    "kernelspec": {
      "name": "python3",
      "display_name": "Python 3"
    },
    "language_info": {
      "name": "python"
    }
  },
  "cells": [
    {
      "cell_type": "markdown",
      "metadata": {
        "id": "view-in-github",
        "colab_type": "text"
      },
      "source": [
        "<a href=\"https://colab.research.google.com/github/robertocarlos1007/Python-M-dulo01-CursoEmVideo/blob/main/Python_M%C3%B3dulo01__Exerc%C3%ADcio(6%2C7%2C8%2C9%2C10)_CursoEmVideo.ipynb\" target=\"_parent\"><img src=\"https://colab.research.google.com/assets/colab-badge.svg\" alt=\"Open In Colab\"/></a>"
      ]
    },
    {
      "cell_type": "code",
      "execution_count": null,
      "metadata": {
        "colab": {
          "base_uri": "https://localhost:8080/"
        },
        "id": "WsZNb9Md2Z6N",
        "outputId": "840f1c48-bb17-4172-815e-7c0384bade36"
      },
      "outputs": [
        {
          "output_type": "stream",
          "name": "stdout",
          "text": [
            "Digite um número: 8\n",
            "O dobro de 8 é 16,  o triplo é 24 e a sua raiz quadrada é 2.83\n"
          ]
        }
      ],
      "source": [
        "# Crie um algoritmo que leia um número e mostre o seu dobro, triplo e raiz quadrada.\n",
        "# ===Exercício 06===\n",
        "n = int(input(\"Digite um número: \"))\n",
        "dobro = n*2\n",
        "triplo = n*3\n",
        "raiz_quadrada = n** (1/2)\n",
        "print(f\"O dobro de {n} é {dobro},  o triplo é {triplo} e a sua raiz quadrada é {raiz_quadrada:.2f}\")\n",
        "\n",
        "  \n",
        "\n"
      ]
    },
    {
      "cell_type": "code",
      "source": [
        "# Desenvolva um programa que leia as duas notas de um aluno, calcule e mostre a sua média.\n",
        "# ===Exercício 07===\n",
        "\n",
        "nota1 = float(input(\"Digite a sua primeira nota: \"))\n",
        "nota2 = float(input(\"Digite a sua segunda nota: \"))\n",
        "media = (nota1+nota2) / 2\n",
        "print(f\"A média entre {nota1} e {nota2} é {media}.\")\n",
        "\n"
      ],
      "metadata": {
        "colab": {
          "base_uri": "https://localhost:8080/"
        },
        "id": "IegRpFyw35AX",
        "outputId": "ab343bd8-7ed1-49ee-eeeb-c7efe2b65de0"
      },
      "execution_count": null,
      "outputs": [
        {
          "output_type": "stream",
          "name": "stdout",
          "text": [
            "Digite a sua primeira nota: 8\n",
            "Digite a sua segunda nota: 9\n",
            "A média entre 8.0 e 9.0 é 8.5.\n"
          ]
        }
      ]
    },
    {
      "cell_type": "code",
      "source": [
        "# Escreva um programa que leia um valor em metros e o exiba convertido em centímetros e milímetros.\n",
        "# ===Exercício 08===\n",
        "m = int(input(\"Digite o valor em metros: \"))\n",
        "km = m / 1000\n",
        "hm = m / 100\n",
        "dam = m / 10\n",
        "dm = m * 10\n",
        "cm = m * 100\n",
        "mm = m * 1000\n",
        "print(\"O resultado das transformações de medidas de {m} é: \")\n",
        "print(f\"{km}km\")\n",
        "print(f\"{hm}hm\")\n",
        "print(f\"{dm}dm\")\n",
        "print(f\"{cm}cm\")\n",
        "print(f\"{mm}mm\")"
      ],
      "metadata": {
        "colab": {
          "base_uri": "https://localhost:8080/"
        },
        "id": "_3SmqpFm4cU1",
        "outputId": "c192e7b9-6af9-4705-8f24-f7d4b505db66"
      },
      "execution_count": null,
      "outputs": [
        {
          "output_type": "stream",
          "name": "stdout",
          "text": [
            "Digite o valor em metros: 200\n",
            "O resultado das transformações de medidas de {m} é: \n",
            "0.2km\n",
            "2.0hm\n",
            "2000dm\n",
            "20000cm\n",
            "200000mm\n"
          ]
        }
      ]
    },
    {
      "cell_type": "code",
      "source": [
        "# Faça um programa que leia um número Inteiro qualquer e mostre na tela a sua tabuada.\n",
        "# ===Exercício 09===\n",
        "a = int(input(\"Digite um valor: \"))\n",
        "for b in range(11):\n",
        " print(f\"{a} x {b} = {a*b}\") "
      ],
      "metadata": {
        "colab": {
          "base_uri": "https://localhost:8080/"
        },
        "id": "x9iIFB4w6jXl",
        "outputId": "04adf5b7-8bb8-4da1-8f72-0929de8fa7df"
      },
      "execution_count": null,
      "outputs": [
        {
          "output_type": "stream",
          "name": "stdout",
          "text": [
            "Digite um valor: 5\n",
            "5 x 0 = 0\n",
            "5 x 1 = 5\n",
            "5 x 2 = 10\n",
            "5 x 3 = 15\n",
            "5 x 4 = 20\n",
            "5 x 5 = 25\n",
            "5 x 6 = 30\n",
            "5 x 7 = 35\n",
            "5 x 8 = 40\n",
            "5 x 9 = 45\n",
            "5 x 10 = 50\n"
          ]
        }
      ]
    },
    {
      "cell_type": "code",
      "source": [
        "# Crie um programa que leia quanto dinheiro uma pessoa tem na carteira e mostre quantos dólares ela pode comprar.\n",
        "#===Exercício 10===\n",
        "real = float(input(\"Digite o valor em real: R$\"))\n",
        "dolar = real / 3.27 \n",
        "print(f\"Com {real} você pode comprar {dolar:.2f}.\") "
      ],
      "metadata": {
        "id": "gxTzUubJ_8mz",
        "colab": {
          "base_uri": "https://localhost:8080/"
        },
        "outputId": "51305c06-db6d-45b4-d664-c2de542a3c84"
      },
      "execution_count": null,
      "outputs": [
        {
          "output_type": "stream",
          "name": "stdout",
          "text": [
            "Digite o valor em real: R$100\n",
            "Com 100.0 você pode comprar 30.58.\n"
          ]
        }
      ]
    }
  ]
}