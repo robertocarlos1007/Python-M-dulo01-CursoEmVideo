{
  "nbformat": 4,
  "nbformat_minor": 0,
  "metadata": {
    "colab": {
      "provenance": [],
      "authorship_tag": "ABX9TyPOpPxcZMh2KJndhdAaj/L6",
      "include_colab_link": true
    },
    "kernelspec": {
      "name": "python3",
      "display_name": "Python 3"
    },
    "language_info": {
      "name": "python"
    }
  },
  "cells": [
    {
      "cell_type": "markdown",
      "metadata": {
        "id": "view-in-github",
        "colab_type": "text"
      },
      "source": [
        "<a href=\"https://colab.research.google.com/github/robertocarlos1007/Python-M-dulo01-CursoEmVideo/blob/main/Python_M%C3%B3dulo01__Exerc%C3%ADcio(3%2C4%2C5)_CursoEmVideo.ipynb\" target=\"_parent\"><img src=\"https://colab.research.google.com/assets/colab-badge.svg\" alt=\"Open In Colab\"/></a>"
      ]
    },
    {
      "cell_type": "code",
      "execution_count": 2,
      "metadata": {
        "colab": {
          "base_uri": "https://localhost:8080/"
        },
        "id": "io8HyqcorQuK",
        "outputId": "db500e37-e0a7-4199-b9e9-ff279bb81cfa"
      },
      "outputs": [
        {
          "output_type": "stream",
          "name": "stdout",
          "text": [
            "Digite um número: 5\n",
            "Digite outro número: 5\n",
            "10\n",
            "------------------------------\n",
            "Digite um número: 5\n",
            "Digite outro número: 5\n",
            "O valor da soma entre 5 e 5 é: 10\n"
          ]
        }
      ],
      "source": [
        "# Cria um programa que leia dois números e mostra a soma entre eles.\n",
        "# ===Exercício 03===\n",
        "\n",
        "n1 = int(input(\"Digite um número: \"))\n",
        "n2 = int(input(\"Digite outro número: \"))\n",
        "print(n1+n2)\n",
        "\n",
        "# forma 2\n",
        "print(\"------------------------------\")\n",
        "n1 = int(input(\"Digite um número: \"))\n",
        "n2 = int(input(\"Digite outro número: \"))\n",
        "soma = n1 + n2\n",
        "print(f\"O valor da soma entre {n1} e {n2} é: {soma}\")\n",
        "\n"
      ]
    },
    {
      "cell_type": "code",
      "source": [
        "# Faça um programa que leia algo pelo teclado e mostre na tela o seu tipo primitivo\n",
        "# e todas as informações possiveis sobre ele.\n",
        "\n",
        "# ===Exercício 04===\n",
        "valor = input(\"Digite algo: \")\n",
        "\n",
        "print(type (valor))\n",
        "print(f\"Está em maiúsculas? {valor.isupper()}\")\n",
        "print(f\"Está em minúsculas? {valor.islower()}\")\n",
        "print(f\"É alfabético? {valor.isalpha()}\")\n",
        "print(f\"É um número? {valor.isnumeric()}\")\n",
        "print(f\"É alfanumérico? {valor.isalnum()}\")\n",
        "print(f\"Só tem espaços? {valor.isspace()}\")\n"
      ],
      "metadata": {
        "id": "IWZFefpesa0D",
        "colab": {
          "base_uri": "https://localhost:8080/"
        },
        "outputId": "b5bcceb3-4b9a-494a-9aee-cd5cd0518222"
      },
      "execution_count": 10,
      "outputs": [
        {
          "output_type": "stream",
          "name": "stdout",
          "text": [
            "Digite algo: f21\n",
            "<class 'str'>\n",
            "Está em maiúsculas? False\n",
            "Está em minúsculas? True\n",
            "É alfabético?False\n",
            "'É um número?False\n",
            "'É alfanumérico?True\n",
            "Só tem espaços? False\n"
          ]
        }
      ]
    },
    {
      "cell_type": "code",
      "source": [
        "# Faça um programa que leia um número Inteiro e mostre na tela o seu sucessor e seu antecessor.\n",
        "# ===Exercício 05===\n",
        "\n",
        "n = int(input(\"Digite um número: \"))\n",
        "sucessor = n + 1\n",
        "antecessor = n - 1\n",
        "print(f\"O sucessor de {n} é {sucessor} e o antecessor é {antecessor}\")"
      ],
      "metadata": {
        "colab": {
          "base_uri": "https://localhost:8080/"
        },
        "id": "cZANSJCNNWuc",
        "outputId": "870d6465-4990-4a2c-b004-24fec2e45dc6"
      },
      "execution_count": null,
      "outputs": [
        {
          "output_type": "stream",
          "name": "stdout",
          "text": [
            "Digite um número: 2\n",
            "O sucessor de 2 é 3 e o antecessor é 1\n"
          ]
        }
      ]
    }
  ]
}